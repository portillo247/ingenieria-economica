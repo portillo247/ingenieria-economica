{
 "cells": [
  {
   "cell_type": "markdown",
   "metadata": {},
   "source": [
    "Cálculos sobre flujos de dinero\n",
    "==="
   ]
  },
  {
   "cell_type": "markdown",
   "metadata": {},
   "source": [
    "Notas de clase sobre ingeniería economica avanzada usando Python\n",
    "\n",
    "**Juan David Velásquez Henao**  \n",
    "jdvelasq@unal.edu.co   \n",
    "Universidad Nacional de Colombia, Sede Medellín  \n",
    "Facultad de Minas  \n",
    "Medellín, Colombia "
   ]
  },
  {
   "cell_type": "markdown",
   "metadata": {},
   "source": [
    "**Software utilizado**\n",
    ">Este es un documento interactivo escrito como un notebook de [Jupyter](http://jupyter.org/) , en el cual se presenta un tutorial sobre finanzas corporativas usando Python. Los notebooks de Jupyter permiten incoporar simultáneamente código, texto, gráficos y ecuaciones. El código presentado en este notebook puede ejecutarse en los sistemas operativos Linux y OS X.  \n",
    "\n",
    ">Haga click [aquí](https://github.com/jdvelasq/guias-de-instalacion) para obtener instrucciones detalladas sobre como instalar Jupyter en Windows y Mac OS X.\n",
    "\n",
    ">Descargue la última versión de este documento a su disco duro; luego, carguelo y ejecutelo en línea en Try [Jupyter!](https://try.jupyter.org/)\n",
    "\n"
   ]
  },
  {
   "cell_type": "markdown",
   "metadata": {},
   "source": [
    "#### Contenido"
   ]
  },
  {
   "cell_type": "markdown",
   "metadata": {},
   "source": [
    ">"
   ]
  },
  {
   "cell_type": "markdown",
   "metadata": {},
   "source": [
    "**Bibliografía**  "
   ]
  },
  {
   "cell_type": "markdown",
   "metadata": {},
   "source": [
    "> * [1] SAS/ETS 14.1 User's Guide, 2015.   \n",
    "* [2] **hp** 12c platinum financial calculator. User's guide. \n",
    "* [3] HP Business Consultant II Owner's manual.\n",
    "* [4] C.S. Park and G.P. Sharp-Bette. Advanced Engineering Economics. John Wiley & Sons, Inc., 1990."
   ]
  },
  {
   "cell_type": "code",
   "execution_count": 2,
   "metadata": {
    "collapsed": false
   },
   "outputs": [],
   "source": [
    "import cashflows as cf"
   ]
  },
  {
   "cell_type": "markdown",
   "metadata": {},
   "source": [
    "# Impuestos corporativos"
   ]
  },
  {
   "cell_type": "markdown",
   "metadata": {},
   "source": [
    "[Contenido](#Contenido)"
   ]
  },
  {
   "cell_type": "markdown",
   "metadata": {},
   "source": [
    "**Tipos de Impuestos**."
   ]
  },
  {
   "cell_type": "markdown",
   "metadata": {},
   "source": [
    "* Impuestos sobre activos tangibles o intangibles."
   ]
  },
  {
   "cell_type": "markdown",
   "metadata": {},
   "source": [
    "* Lincencias para establecimiento de negocios."
   ]
  },
  {
   "cell_type": "markdown",
   "metadata": {},
   "source": [
    "* Impuestos al consumo sobre productos básicos."
   ]
  },
  {
   "cell_type": "markdown",
   "metadata": {},
   "source": [
    "* Impuestos a las ventas."
   ]
  },
  {
   "cell_type": "markdown",
   "metadata": {},
   "source": [
    "* Impuestos a la renta."
   ]
  },
  {
   "cell_type": "markdown",
   "metadata": {},
   "source": [
    "**Deducciones.**"
   ]
  },
  {
   "cell_type": "markdown",
   "metadata": {},
   "source": [
    "El impuesto de renta es calculado como el ingreso bruto menos las deducciones permitidas:"
   ]
  },
  {
   "cell_type": "markdown",
   "metadata": {},
   "source": [
    "* Salarios."
   ]
  },
  {
   "cell_type": "markdown",
   "metadata": {},
   "source": [
    "* Rentas."
   ]
  },
  {
   "cell_type": "markdown",
   "metadata": {},
   "source": [
    "* Intereses pagados."
   ]
  },
  {
   "cell_type": "markdown",
   "metadata": {},
   "source": [
    "* Publicidad."
   ]
  },
  {
   "cell_type": "markdown",
   "metadata": {},
   "source": [
    "* Planes de pensión."
   ]
  },
  {
   "cell_type": "markdown",
   "metadata": {},
   "source": [
    "* Gastos de investigación."
   ]
  },
  {
   "cell_type": "markdown",
   "metadata": {},
   "source": [
    "* Depreciación, amortización y agotamiento."
   ]
  },
  {
   "cell_type": "markdown",
   "metadata": {},
   "source": [
    "**Ejemplo.--** Sea un flujo constante de \\$ 1000 para los periodos 1 a 5 y -90 para los periodos 6 a 10. Calcule el impuesto de renta para una tasa impositiva del 30%.  "
   ]
  },
  {
   "cell_type": "code",
   "execution_count": 6,
   "metadata": {
    "collapsed": false
   },
   "outputs": [
    {
     "name": "stdout",
     "output_type": "stream",
     "text": [
      "time   value +------------------+------------------+\n",
      "(0,) 1000.00                    ********************\n",
      "(1,) 1000.00                    ********************\n",
      "(2,) 1000.00                    ********************\n",
      "(3,) 1000.00                    ********************\n",
      "(4,) 1000.00                    ********************\n",
      "(5,)  -90.00                    *\n",
      "(6,)  -90.00                    *\n",
      "(7,)  -90.00                    *\n",
      "(8,)  -90.00                    *\n",
      "(9,)  -90.00                    *\n"
     ]
    }
   ],
   "source": [
    "cflo=cf.cashflow(const_value=1000,  nper=10, spec=[(t,-90) for t in range(5,10)])\n",
    "cf.cfloplot(cflo) \n"
   ]
  },
  {
   "cell_type": "code",
   "execution_count": 7,
   "metadata": {
    "collapsed": false
   },
   "outputs": [
    {
     "name": "stdout",
     "output_type": "stream",
     "text": [
      "time  value +------------------+------------------+\n",
      "(0,) 300.00                    ********************\n",
      "(1,) 300.00                    ********************\n",
      "(2,) 300.00                    ********************\n",
      "(3,) 300.00                    ********************\n",
      "(4,) 300.00                    ********************\n",
      "(5,)   0.00                    *\n",
      "(6,)   0.00                    *\n",
      "(7,)   0.00                    *\n",
      "(8,)   0.00                    *\n",
      "(9,)   0.00                    *\n"
     ]
    }
   ],
   "source": [
    "tax_rate = cf.nominal_rate(const_value=[30] * 10)\n",
    "x=cf.after_tax_cashflow(cflo,           # flujo de efectivo\n",
    "                    tax_rate = tax_rate) # impuesto de renta\n",
    "cf.cfloplot(x)"
   ]
  },
  {
   "cell_type": "markdown",
   "metadata": {},
   "source": [
    "**Ejemplo.--** Considere un flujo de caja de \\$ 100, y una duración de 10 periodos. Calcule el impuesto de renta si la tasa es del 30% para los periodos 1 a 5 y del 35% para los periodos restantes. "
   ]
  },
  {
   "cell_type": "code",
   "execution_count": 145,
   "metadata": {
    "collapsed": false
   },
   "outputs": [
    {
     "name": "stdout",
     "output_type": "stream",
     "text": [
      "time value +------------------+------------------+\n",
      "(0,) 30.00                    *****************\n",
      "(1,) 30.00                    *****************\n",
      "(2,) 30.00                    *****************\n",
      "(3,) 30.00                    *****************\n",
      "(4,) 30.00                    *****************\n",
      "(5,) 35.00                    ********************\n",
      "(6,) 35.00                    ********************\n",
      "(7,) 35.00                    ********************\n",
      "(8,) 35.00                    ********************\n",
      "(9,) 35.00                    ********************\n"
     ]
    }
   ],
   "source": [
    "cflo = cf.cashflow(const_value=[100]*10)\n",
    "tax_rate = cf.nominal_rate(const_value=[30] * 10,spec=(5,35))\n",
    "x=cf.after_tax_cashflow(cflo,           # flujo de efectivo\n",
    "                    tax_rate = tax_rate) # impuesto de renta\n",
    "cf.cfloplot(x)"
   ]
  },
  {
   "cell_type": "markdown",
   "metadata": {},
   "source": [
    "---"
   ]
  },
  {
   "cell_type": "markdown",
   "metadata": {
    "collapsed": true
   },
   "source": [
    "# Inflación"
   ]
  },
  {
   "cell_type": "markdown",
   "metadata": {},
   "source": [
    "[Contenido](#Contenido)"
   ]
  },
  {
   "cell_type": "markdown",
   "metadata": {},
   "source": [
    "Se define como la pérdida de poder adquisitivo de la moneda. Existen diferentes medidas:"
   ]
  },
  {
   "cell_type": "markdown",
   "metadata": {},
   "source": [
    "* Indice de precios del consumidos (IPC)"
   ]
  },
  {
   "cell_type": "markdown",
   "metadata": {},
   "source": [
    "* Indice de precios del productor (IPP)"
   ]
  },
  {
   "cell_type": "markdown",
   "metadata": {},
   "source": [
    "* Medidas derivadas a partir del producto interno bruto  "
   ]
  },
  {
   "cell_type": "markdown",
   "metadata": {},
   "source": [
    "Tasa promedio de inflación: tasa porcentual anual que representa el incremento de los precios sobre un periodo de un año respecto al año anterior."
   ]
  },
  {
   "cell_type": "markdown",
   "metadata": {},
   "source": [
    "## Tratamiento de la inflación"
   ]
  },
  {
   "cell_type": "markdown",
   "metadata": {},
   "source": [
    "[Contenido](#Contenido)"
   ]
  },
  {
   "cell_type": "markdown",
   "metadata": {},
   "source": [
    "* Precios constantes."
   ]
  },
  {
   "cell_type": "markdown",
   "metadata": {},
   "source": [
    "* Precios corrientes."
   ]
  },
  {
   "cell_type": "markdown",
   "metadata": {},
   "source": [
    "* Tasa de interés del mercado $(i)$. Incluye una componente de utilidad económica y una de inflación."
   ]
  },
  {
   "cell_type": "markdown",
   "metadata": {},
   "source": [
    "* Tasa de interés libre de inflación $(i')$. Representa únicamente la componente de utilidad económica"
   ]
  },
  {
   "cell_type": "markdown",
   "metadata": {},
   "source": [
    "* Tasa de inflación general $(f)$. Incremento promedio anual en los precios de los bienes y servicios"
   ]
  },
  {
   "cell_type": "markdown",
   "metadata": {},
   "source": [
    "## Relaciones de equivalencia"
   ]
  },
  {
   "cell_type": "markdown",
   "metadata": {},
   "source": [
    "[Contenido](#Contenido)"
   ]
  },
  {
   "cell_type": "markdown",
   "metadata": {},
   "source": [
    "* $F_n'$: valor en moneda **constante** (en precios del periodo 0) que ocurren en el flujo de caja al final del periodo $n$.  "
   ]
  },
  {
   "cell_type": "markdown",
   "metadata": {},
   "source": [
    "* $F_n$: valor en moneda **corriente** que ocurren en el flujo de caja al final del periodo $n$.  "
   ]
  },
  {
   "cell_type": "markdown",
   "metadata": {},
   "source": [
    "Conversión entre moneda constante y corriente: "
   ]
  },
  {
   "cell_type": "markdown",
   "metadata": {},
   "source": [
    "$$F_n=F_n^{'}~(1+f)^n$$   "
   ]
  },
  {
   "cell_type": "markdown",
   "metadata": {},
   "source": [
    "Valor presente:"
   ]
  },
  {
   "cell_type": "markdown",
   "metadata": {},
   "source": [
    "$$P=F_n^{'}~(1+i^{'})^{-n} = F_n^{'}~(1+i)^{-n}$$ "
   ]
  },
  {
   "cell_type": "markdown",
   "metadata": {},
   "source": [
    "Relación entre tasas:"
   ]
  },
  {
   "cell_type": "markdown",
   "metadata": {},
   "source": [
    "$$i^{'}=\\frac{i-f}{1+f}$$ "
   ]
  },
  {
   "cell_type": "markdown",
   "metadata": {},
   "source": [
    "$$(1+i^{'})(1+f)=1+i$$"
   ]
  },
  {
   "cell_type": "markdown",
   "metadata": {},
   "source": [
    "**Ejemplo.--** Considere un flujo de caja constante de \\$ 1000. Conviertalo a dinero del periodo 0 usando una inflación del 5% por periodo. "
   ]
  },
  {
   "cell_type": "code",
   "execution_count": 170,
   "metadata": {
    "collapsed": false
   },
   "outputs": [
    {
     "data": {
      "text/plain": [
       "Time Series:\n",
       "Start = (0,)\n",
       "End = (9,)\n",
       "pyr = 1\n",
       "Data = (0,)-(9,) [10] 1000.00 "
      ]
     },
     "execution_count": 170,
     "metadata": {},
     "output_type": "execute_result"
    }
   ],
   "source": [
    "x = cf.cashflow(const_value=[1000]*10)\n",
    "x\n"
   ]
  },
  {
   "cell_type": "code",
   "execution_count": 171,
   "metadata": {
    "collapsed": false
   },
   "outputs": [
    {
     "data": {
      "text/plain": [
       "Time Series:\n",
       "Start = (0,)\n",
       "End = (9,)\n",
       "pyr = 1\n",
       "Data = (0,)   1000.00 \n",
       "       (1,)   1050.00 \n",
       "       (2,)   1102.50 \n",
       "       (3,)   1157.63 \n",
       "       (4,)   1215.51 \n",
       "       (5,)   1276.28 \n",
       "       (6,)   1340.10 \n",
       "       (7,)   1407.10 \n",
       "       (8,)   1477.46 \n",
       "       (9,)   1551.33 "
      ]
     },
     "execution_count": 171,
     "metadata": {},
     "output_type": "execute_result"
    }
   ],
   "source": [
    "cf.const2curr(cflo=x,inflation=cf.nominal_rate(const_value=[5]*10))"
   ]
  },
  {
   "cell_type": "markdown",
   "metadata": {},
   "source": [
    "**Ejemplo.--** Considere un flujo de caja constante de \\$ 1000. Conviertalo a dinero del periodo 0 usando una inflación inicial del 5% por periodo. La inflación cambia al 10% a partir del periodo 5."
   ]
  },
  {
   "cell_type": "code",
   "execution_count": 172,
   "metadata": {
    "collapsed": false
   },
   "outputs": [
    {
     "name": "stdout",
     "output_type": "stream",
     "text": [
      "time   value +------------------+------------------+\n",
      "(0,) 1000.00                    ********************\n",
      "(1,) 1000.00                    ********************\n",
      "(2,) 1000.00                    ********************\n",
      "(3,) 1000.00                    ********************\n",
      "(4,) 1000.00                    ********************\n",
      "(5,) 1000.00                    ********************\n",
      "(6,) 1000.00                    ********************\n",
      "(7,) 1000.00                    ********************\n",
      "(8,) 1000.00                    ********************\n",
      "(9,) 1000.00                    ********************\n"
     ]
    }
   ],
   "source": [
    "## flujo de caja\n",
    "x = cf.cashflow(const_value=[1000]*10)\n",
    "cf.cfloplot(x)"
   ]
  },
  {
   "cell_type": "code",
   "execution_count": 173,
   "metadata": {
    "collapsed": false
   },
   "outputs": [
    {
     "name": "stdout",
     "output_type": "stream",
     "text": [
      "time value +------------------+------------------+\n",
      "(0,)  5.00                    **********\n",
      "(1,)  5.00                    **********\n",
      "(2,)  5.00                    **********\n",
      "(3,)  5.00                    **********\n",
      "(4,)  5.00                    **********\n",
      "(5,) 10.00                    ********************\n",
      "(6,) 10.00                    ********************\n",
      "(7,) 10.00                    ********************\n",
      "(8,) 10.00                    ********************\n",
      "(9,) 10.00                    ********************\n"
     ]
    }
   ],
   "source": [
    "## inflacion\n",
    "inflation = cf.nominal_rate(const_value=[5]*10,spec=(5,10))\n",
    "cf.cfloplot(inflation)"
   ]
  },
  {
   "cell_type": "code",
   "execution_count": 174,
   "metadata": {
    "collapsed": false
   },
   "outputs": [
    {
     "data": {
      "text/plain": [
       "Time Series:\n",
       "Start = (0,)\n",
       "End = (9,)\n",
       "pyr = 1\n",
       "Data = (0,)   1000.00 \n",
       "       (1,)   1050.00 \n",
       "       (2,)   1102.50 \n",
       "       (3,)   1157.63 \n",
       "       (4,)   1215.51 \n",
       "       (5,)   1337.06 \n",
       "       (6,)   1470.76 \n",
       "       (7,)   1617.84 \n",
       "       (8,)   1779.62 \n",
       "       (9,)   1957.58 "
      ]
     },
     "execution_count": 174,
     "metadata": {},
     "output_type": "execute_result"
    }
   ],
   "source": [
    "cf.const2curr(cflo=x,inflation=inflation)"
   ]
  },
  {
   "cell_type": "markdown",
   "metadata": {},
   "source": [
    "# Devaluación"
   ]
  },
  {
   "cell_type": "markdown",
   "metadata": {},
   "source": [
    "[Contenido](#Contenido)"
   ]
  },
  {
   "cell_type": "markdown",
   "metadata": {},
   "source": [
    "<img src=\"images/devaluacion.png\" width=600>"
   ]
  },
  {
   "cell_type": "markdown",
   "metadata": {},
   "source": [
    "$$d=\\frac{f-f_e}{1+f_e},~~~~1+d=\\frac{1+f}{1+f_e}$$"
   ]
  },
  {
   "cell_type": "markdown",
   "metadata": {},
   "source": [
    "## Cálculos con moneda extranjera"
   ]
  },
  {
   "cell_type": "markdown",
   "metadata": {},
   "source": [
    "[Contenido](#Contenido)"
   ]
  },
  {
   "cell_type": "markdown",
   "metadata": {},
   "source": [
    "* $i$ -- tasa equivalente de interés en moneda local    "
   ]
  },
  {
   "cell_type": "markdown",
   "metadata": {},
   "source": [
    "* $i_e$ -- tasa de interés en moneda extranjera     "
   ]
  },
  {
   "cell_type": "markdown",
   "metadata": {},
   "source": [
    "* $d$ -- tasa de devaluación de la moneda local frente a la moneda extranjera.    "
   ]
  },
  {
   "cell_type": "markdown",
   "metadata": {},
   "source": [
    "* $f$ -- tasa de inflación interna    "
   ]
  },
  {
   "cell_type": "markdown",
   "metadata": {},
   "source": [
    "* $f_e$ -- tasa de inflación externa   "
   ]
  },
  {
   "cell_type": "markdown",
   "metadata": {},
   "source": [
    "Interés equivalente para un préstamo en moneda extranjera:"
   ]
  },
  {
   "cell_type": "markdown",
   "metadata": {},
   "source": [
    "$$1+i=(1+i_e)(1+d)$$"
   ]
  },
  {
   "cell_type": "markdown",
   "metadata": {},
   "source": [
    "**Ejemplo.--** ¿Cuál es la rentabilidad en pesos de un proyecto extranjero que ofrece una rentabilidad del 1.5% mensual?, se estima una devaluación mensual de 2.0%"
   ]
  },
  {
   "cell_type": "code",
   "execution_count": 11,
   "metadata": {
    "collapsed": false
   },
   "outputs": [
    {
     "data": {
      "text/plain": [
       "0.0353"
      ]
     },
     "execution_count": 11,
     "metadata": {},
     "output_type": "execute_result"
    }
   ],
   "source": [
    "round((1 + 0.015) * (1 + 0.020) - 1, 4)"
   ]
  },
  {
   "cell_type": "markdown",
   "metadata": {},
   "source": [
    "**Ejemplo.--** Considere un flujo de efectivo constante de \\$ 1000 durante 10 periodos. Conviértalo a moneda extranjera si la tasa de cambio es de \\$ 2. "
   ]
  },
  {
   "cell_type": "code",
   "execution_count": 175,
   "metadata": {
    "collapsed": false
   },
   "outputs": [
    {
     "data": {
      "text/plain": [
       "Time Series:\n",
       "Start = (0,)\n",
       "End = (9,)\n",
       "pyr = 1\n",
       "Data = (0,)-(9,) [10] 2000.00 "
      ]
     },
     "execution_count": 175,
     "metadata": {},
     "output_type": "execute_result"
    }
   ],
   "source": [
    "x = cf.cashflow([1000]*10)\n",
    "cf.currency_conversion(cflo=x, exchange_rate = 2)"
   ]
  },
  {
   "cell_type": "markdown",
   "metadata": {},
   "source": [
    "**Ejemplo.--** Considere el mismo caso anterior con una devaluación por periodo del 1%."
   ]
  },
  {
   "cell_type": "code",
   "execution_count": 178,
   "metadata": {
    "collapsed": false
   },
   "outputs": [
    {
     "data": {
      "text/plain": [
       "Time Series:\n",
       "Start = (0,)\n",
       "End = (9,)\n",
       "pyr = 1\n",
       "Data = (0,)   2000.00 \n",
       "       (1,)   2020.00 \n",
       "       (2,)   2040.20 \n",
       "       (3,)   2060.60 \n",
       "       (4,)   2081.21 \n",
       "       (5,)   2102.02 \n",
       "       (6,)   2123.04 \n",
       "       (7,)   2144.27 \n",
       "       (8,)   2165.71 \n",
       "       (9,)   2187.37 "
      ]
     },
     "execution_count": 178,
     "metadata": {},
     "output_type": "execute_result"
    }
   ],
   "source": [
    "x = cf.cashflow([1000]*10)\n",
    "cf.currency_conversion(cflo=x, exchange_rate = 2, devaluation=cf.nominal_rate(const_value=[1]*10))"
   ]
  },
  {
   "cell_type": "markdown",
   "metadata": {},
   "source": [
    "---"
   ]
  },
  {
   "cell_type": "markdown",
   "metadata": {},
   "source": [
    "**Ejercicio.--** Un invesionista extranjero se encuentra evaluando un proyecto de inversión en Colombia que ofrece una rentabilidad en pesos colombianos de 35% anual. Si él en su país logra una rentabilidad del 10% anual, ¿cuál será la tasa de devaluación del peso respecto al dólar, que hará atractivo el proyecto?"
   ]
  },
  {
   "cell_type": "code",
   "execution_count": null,
   "metadata": {
    "collapsed": true
   },
   "outputs": [],
   "source": []
  },
  {
   "cell_type": "markdown",
   "metadata": {},
   "source": [
    "**Ejercicio.--** Un invesionista extranjero se encuentra evaluando un proyecto de inversión en Colombia se estima una rentabilidad en pesos colombianos de 38% anual. Si él en su país logra una rentabilidad del 15% anual, ¿cuál será la tasa de devaluación del peso respecto al dólar, que hará atractivo el proyecto? (Rta: 20%)"
   ]
  },
  {
   "cell_type": "code",
   "execution_count": null,
   "metadata": {
    "collapsed": true
   },
   "outputs": [],
   "source": []
  },
  {
   "cell_type": "markdown",
   "metadata": {},
   "source": [
    "---"
   ]
  },
  {
   "cell_type": "markdown",
   "metadata": {},
   "source": [
    "[Contenido](#Contenido)"
   ]
  }
 ],
 "metadata": {
  "anaconda-cloud": {},
  "kernelspec": {
   "display_name": "Python [default]",
   "language": "python",
   "name": "python3"
  },
  "language_info": {
   "codemirror_mode": {
    "name": "ipython",
    "version": 3
   },
   "file_extension": ".py",
   "mimetype": "text/x-python",
   "name": "python",
   "nbconvert_exporter": "python",
   "pygments_lexer": "ipython3",
   "version": "3.5.2"
  }
 },
 "nbformat": 4,
 "nbformat_minor": 0
}
