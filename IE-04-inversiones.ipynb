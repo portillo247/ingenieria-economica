{
 "cells": [
  {
   "cell_type": "markdown",
   "metadata": {},
   "source": [
    "Inversiones\n",
    "==="
   ]
  },
  {
   "cell_type": "markdown",
   "metadata": {},
   "source": [
    "Notas de clase sobre ingeniería economica avanzada usando Python\n",
    "\n",
    "**Juan David Velásquez Henao**  \n",
    "jdvelasq@unal.edu.co   \n",
    "Universidad Nacional de Colombia, Sede Medellín  \n",
    "Facultad de Minas  \n",
    "Medellín, Colombia  "
   ]
  },
  {
   "cell_type": "markdown",
   "metadata": {},
   "source": [
    "**Software utilizado**\n",
    ">Este es un documento interactivo escrito como un notebook de [Jupyter](http://jupyter.org/) , en el cual se presenta un tutorial sobre finanzas corporativas usando Python. Los notebooks de Jupyter permiten incoporar simultáneamente código, texto, gráficos y ecuaciones. El código presentado en este notebook puede ejecutarse en los sistemas operativos Linux y OS X.  \n",
    "\n",
    ">Haga click [aquí](https://github.com/jdvelasq/guias-de-instalacion) para obtener instrucciones detalladas sobre como instalar Jupyter en Windows y Mac OS X.\n",
    "\n",
    ">Descargue la última versión de este documento a su disco duro; luego, carguelo y ejecutelo en línea en Try [Jupyter!](https://try.jupyter.org/)\n",
    "\n"
   ]
  },
  {
   "cell_type": "markdown",
   "metadata": {},
   "source": [
    "#### Contenido"
   ]
  },
  {
   "cell_type": "markdown",
   "metadata": {},
   "source": [
    ">"
   ]
  },
  {
   "cell_type": "markdown",
   "metadata": {},
   "source": [
    "**Bibliografía**"
   ]
  },
  {
   "cell_type": "markdown",
   "metadata": {},
   "source": [
    "> * [1] SAS/ETS 14.1 User's Guide, 2015.   \n",
    "* [2] **hp** 12c platinum financial calculator. User's guide. \n",
    "* [3] HP Business Consultant II Owner's manual.\n",
    "* [4] C.S. Park and G.P. Sharp-Bette. Advanced Engineering Economics. John Wiley & Sons, Inc., 1990."
   ]
  },
  {
   "cell_type": "code",
   "execution_count": 2,
   "metadata": {
    "collapsed": false
   },
   "outputs": [],
   "source": [
    "import cashflows as cf"
   ]
  },
  {
   "cell_type": "markdown",
   "metadata": {},
   "source": [
    "# Depreciación"
   ]
  },
  {
   "cell_type": "markdown",
   "metadata": {},
   "source": [
    "[Contenido](#Contenido)"
   ]
  },
  {
   "cell_type": "markdown",
   "metadata": {},
   "source": [
    "Permite la deducción de los costos de las inversiones (pérdida de valor de ellas) con el fin de reducir el impuesto de renta."
   ]
  },
  {
   "cell_type": "markdown",
   "metadata": {},
   "source": [
    "## Depreciación en linea recta"
   ]
  },
  {
   "cell_type": "markdown",
   "metadata": {},
   "source": [
    "[Contenido](#Contenido)"
   ]
  },
  {
   "cell_type": "markdown",
   "metadata": {},
   "source": [
    "La depreciación en todos los años es igual."
   ]
  },
  {
   "cell_type": "markdown",
   "metadata": {},
   "source": [
    "* $P$ -- valor de compra en libros."
   ]
  },
  {
   "cell_type": "markdown",
   "metadata": {},
   "source": [
    "* $N$ -- número de años en que ocurre la depreciación (vida útil del activo)."
   ]
  },
  {
   "cell_type": "markdown",
   "metadata": {},
   "source": [
    "* $D_n$ -- depreciación en el año $n$."
   ]
  },
  {
   "cell_type": "markdown",
   "metadata": {},
   "source": [
    "$$D_n = \\frac{P-F}{N}$$"
   ]
  },
  {
   "cell_type": "markdown",
   "metadata": {},
   "source": [
    "* $F$ -- valor de salvamento al final de la vida útil."
   ]
  },
  {
   "cell_type": "markdown",
   "metadata": {},
   "source": [
    "**Ejemplo.--** Un activo cuesta  \\$ 200 . Si la depreciación ocurre durante 5 años, cuál es su depreciación anual?."
   ]
  },
  {
   "cell_type": "code",
   "execution_count": 3,
   "metadata": {
    "collapsed": false
   },
   "outputs": [
    {
     "name": "stdout",
     "output_type": "stream",
     "text": [
      "t       Beg.    Cost  Depre.  Accum.    End.\n",
      "        Book                  Depre.    Book\n",
      "       Value                           Value\n",
      "--------------------------------------------\n",
      "(0,)    0.00  200.00    0.00    0.00  200.00\n",
      "(1,)  200.00    0.00   40.00   40.00  160.00\n",
      "(2,)  160.00    0.00   40.00   80.00  120.00\n",
      "(3,)  120.00    0.00   40.00  120.00   80.00\n",
      "(4,)   80.00    0.00   40.00  160.00   40.00\n",
      "(5,)   40.00    0.00   40.00  200.00    0.00\n"
     ]
    }
   ],
   "source": [
    "#\n",
    "# los datos del activo se ingresan como una dupla \n",
    "# conformada asi: (costo, vida util)\n",
    "\n",
    "costs = cf.cashflow(const_value=0, nper=6, spec=(0, 200)) # Costo del\n",
    "life = cf.cashflow(const_value=0, nper=6, spec=(0, 5))\n",
    "#\n",
    "# 'SL' indica la depreciación en linea recta\n",
    "#                        (cost, life)\n",
    "cf.depreciation_sl(costs=costs, life=life,noprint=False)\n",
    "\n",
    "#\n",
    "# el resultado se imprime en forma de tabla:\n",
    "#\n",
    "#  * Beg. Book Value -- representa el valor total de los activos al inicio del periodo\n",
    "#  * Cost -- Costo en activos en el periodo\n",
    "#  * Depre -- depreciación total para el periodo t\n",
    "#  * Accum. Depre --- depreciación acumulada por periodo\n",
    "#  * End.Book Value -- valor final de los activos al final del periodo"
   ]
  },
  {
   "cell_type": "markdown",
   "metadata": {},
   "source": [
    "## Depreciación por suma de los dígitos de los años (o depreciación acelerada)"
   ]
  },
  {
   "cell_type": "markdown",
   "metadata": {},
   "source": [
    "[Contenido](#Contenido)"
   ]
  },
  {
   "cell_type": "markdown",
   "metadata": {},
   "source": [
    "En este método de depreciación se hace mayor al principio y más pequeña al final. Se basa en la progresión desde $N$ hasta 1."
   ]
  },
  {
   "cell_type": "markdown",
   "metadata": {},
   "source": [
    "$$S = \\sum_{i=1}^N i = \\frac{1}{2} N(N + 1)$$"
   ]
  },
  {
   "cell_type": "markdown",
   "metadata": {},
   "source": [
    "$$D_n = (P - F) * \\frac{(N - n + 1)}{S} = 2 * (P - F) * \\frac{N-n+1}{N(N+1)}$$ "
   ]
  },
  {
   "cell_type": "markdown",
   "metadata": {},
   "source": [
    "**Ejemplo.--** Calcule la depreciación por el método de la suma de los dígitos de los años para el activo del ejemplo anterior."
   ]
  },
  {
   "cell_type": "code",
   "execution_count": 70,
   "metadata": {
    "collapsed": false,
    "scrolled": true
   },
   "outputs": [
    {
     "name": "stdout",
     "output_type": "stream",
     "text": [
      "t       Beg.    Cost  Depre.  Accum.    End.\n",
      "        Book                  Depre.    Book\n",
      "       Value                           Value\n",
      "--------------------------------------------\n",
      "(0,)    0.00  200.00    0.00    0.00  200.00\n",
      "(1,)  200.00    0.00   66.67   66.67  133.33\n",
      "(2,)  133.33    0.00   53.33  120.00   80.00\n",
      "(3,)   80.00    0.00   40.00  160.00   40.00\n",
      "(4,)   40.00    0.00   26.67  186.67   13.33\n"
     ]
    }
   ],
   "source": [
    "## 'SOYD' -- sum of year's digits\n",
    "cf.depreciation_soyd(costs=costs, life=life,noprint=False) # (cost, life)\n",
    "# noprint es para imprimir la tabla cuando se indica False\n"
   ]
  },
  {
   "cell_type": "markdown",
   "metadata": {},
   "source": [
    "## Modelado de la depreciación usando `cashflow`"
   ]
  },
  {
   "cell_type": "code",
   "execution_count": 74,
   "metadata": {
    "collapsed": false
   },
   "outputs": [
    {
     "data": {
      "text/plain": [
       "    Qtr0   Qtr1   Qtr2   Qtr3\n",
       "0   0.00   0.00   0.00 250.00\n",
       "1 250.00 250.00 250.00   0.00\n",
       "2   0.00   0.00   0.00 250.00\n",
       "3 250.00 250.00 250.00   0.00"
      ]
     },
     "execution_count": 74,
     "metadata": {},
     "output_type": "execute_result"
    }
   ],
   "source": [
    "##\n",
    "## es posible obtener la columna 'depreciation' como un flujo de efectivo teniendo en cuenta los periodos anuales y\n",
    "## en cuales periodos se reflejaran los costos \n",
    "##\n",
    "costs = cf.cashflow(const_value=0, \n",
    "                    nper=16, \n",
    "                    spec=[(0, 1000), (8, 1000)], \n",
    "                    pyr=4)\n",
    "life = cf.cashflow(const_value=0, \n",
    "                   nper=16, \n",
    "                   spec=[(0, 4), (8, 4)], \n",
    "                   pyr=4)\n",
    "delay22 = cf.cashflow(const_value=0, \n",
    "                      nper=16, \n",
    "                      spec=[(0, 2), (8, 2)],\n",
    "                      pyr=4)\n",
    "\n",
    "cf.depreciation_sl(costs=costs,\n",
    "                   life=life,\n",
    "                   delay=delay22)"
   ]
  },
  {
   "cell_type": "code",
   "execution_count": 75,
   "metadata": {
    "collapsed": false
   },
   "outputs": [
    {
     "name": "stdout",
     "output_type": "stream",
     "text": [
      "t         Beg.    Cost  Depre.  Accum.    End.\n",
      "          Book                  Depre.    Book\n",
      "         Value                           Value\n",
      "----------------------------------------------\n",
      "(0, 0)    0.00 1000.00    0.00    0.00 1000.00\n",
      "(0, 1) 1000.00    0.00    0.00    0.00 1000.00\n",
      "(0, 2) 1000.00    0.00    0.00    0.00 1000.00\n",
      "(0, 3) 1000.00    0.00  250.00  250.00  750.00\n",
      "(1, 0)  750.00    0.00  250.00  500.00  500.00\n",
      "(1, 1)  500.00    0.00  250.00  750.00  250.00\n",
      "(1, 2)  250.00    0.00  250.00 1000.00    0.00\n",
      "(1, 3)    0.00    0.00    0.00 1000.00    0.00\n",
      "(2, 0)    0.00 1000.00    0.00 1000.00 1000.00\n",
      "(2, 1) 1000.00    0.00    0.00 1000.00 1000.00\n",
      "(2, 2) 1000.00    0.00    0.00 1000.00 1000.00\n",
      "(2, 3) 1000.00    0.00  250.00 1250.00  750.00\n",
      "(3, 0)  750.00    0.00  250.00 1500.00  500.00\n",
      "(3, 1)  500.00    0.00  250.00 1750.00  250.00\n",
      "(3, 2)  250.00    0.00  250.00 2000.00    0.00\n",
      "(3, 3)    0.00    0.00    0.00 2000.00    0.00\n"
     ]
    }
   ],
   "source": [
    "##\n",
    "## es posible obtener la tabla de depreciación\n",
    "##\n",
    "cf.depreciation_sl(costs=costs, life=life, delay=delay22, noprint=False)"
   ]
  },
  {
   "cell_type": "markdown",
   "metadata": {},
   "source": [
    "## Efecto de la depreciación sobre el impuesto de renta y el flujo de caja"
   ]
  },
  {
   "cell_type": "markdown",
   "metadata": {},
   "source": [
    "[Contenido](#Contenido)"
   ]
  },
  {
   "cell_type": "markdown",
   "metadata": {},
   "source": [
    "**Caso 1: sin depreciación.**"
   ]
  },
  {
   "cell_type": "code",
   "execution_count": 91,
   "metadata": {
    "collapsed": false
   },
   "outputs": [
    {
     "data": {
      "text/plain": [
       "Time Series:\n",
       "Start = (0,)\n",
       "End = (4,)\n",
       "pyr = 1\n",
       "Data = (0,)-(4,) [5] 250.00 "
      ]
     },
     "execution_count": 91,
     "metadata": {},
     "output_type": "execute_result"
    }
   ],
   "source": [
    "# crea el flujo de caja\n",
    "i = cf.cashflow(const_value=[500]*5)          # ingresos brutos: $ 500 por periodo\n",
    "g = cf.cashflow(const_value=[250]*5)                         # gastos operativos: $ 250 por periodo\n",
    "x = i-g                                      # ingreso antes de impuestos\n",
    "x"
   ]
  },
  {
   "cell_type": "code",
   "execution_count": 92,
   "metadata": {
    "collapsed": false
   },
   "outputs": [
    {
     "data": {
      "text/plain": [
       "Time Series:\n",
       "Start = (0,)\n",
       "End = (4,)\n",
       "pyr = 1\n",
       "Data = (0,)-(4,) [5] 337.50 "
      ]
     },
     "execution_count": 92,
     "metadata": {},
     "output_type": "execute_result"
    }
   ],
   "source": [
    "x = x + cf.after_tax_cashflow(x, tax_rate = cf.nominal_rate(const_value=[35] * 5)) # impuesto de renta del 35%\n",
    "x                                              # ingreso despues de impuestos"
   ]
  },
  {
   "cell_type": "markdown",
   "metadata": {},
   "source": [
    "**Caso 2: depreciación en linea recta.**"
   ]
  },
  {
   "cell_type": "code",
   "execution_count": 120,
   "metadata": {
    "collapsed": false
   },
   "outputs": [
    {
     "data": {
      "text/plain": [
       "Time Series:\n",
       "Start = (0,)\n",
       "End = (4,)\n",
       "pyr = 1\n",
       "Data = (0,)           0.00 \n",
       "       (1,)-(4,) [4] 40.00 "
      ]
     },
     "execution_count": 120,
     "metadata": {},
     "output_type": "execute_result"
    }
   ],
   "source": [
    "## considere un activo depreciable\n",
    "d = cf.depreciation_sl(costs=cf.cashflow(const_value=0, nper=5, spec=(0, 200)), \n",
    "                       life=cf.cashflow(const_value=0, nper=5, spec=(0, 5)),\n",
    "                       noprint=True)\n",
    "d"
   ]
  },
  {
   "cell_type": "code",
   "execution_count": 121,
   "metadata": {
    "collapsed": false
   },
   "outputs": [
    {
     "data": {
      "text/plain": [
       "Time Series:\n",
       "Start = (0,)\n",
       "End = (4,)\n",
       "pyr = 1\n",
       "Data = (0,)-(4,) [5] 250.00 "
      ]
     },
     "execution_count": 121,
     "metadata": {},
     "output_type": "execute_result"
    }
   ],
   "source": [
    "# crea el flujo de caja\n",
    "i = cf.cashflow(const_value=[500]*5)          # ingresos brutos: $ 500 por periodo\n",
    "g = cf.cashflow(const_value=[250]*5)                         # gastos operativos: $ 250 por periodo\n",
    "x = i-g                                      # ingreso antes de impuestos\n",
    "x"
   ]
  },
  {
   "cell_type": "code",
   "execution_count": 122,
   "metadata": {
    "collapsed": false
   },
   "outputs": [
    {
     "data": {
      "text/plain": [
       "Time Series:\n",
       "Start = (0,)\n",
       "End = (4,)\n",
       "pyr = 1\n",
       "Data = (0,)          250.00 \n",
       "       (1,)-(4,) [4] 290.00 "
      ]
     },
     "execution_count": 122,
     "metadata": {},
     "output_type": "execute_result"
    }
   ],
   "source": [
    "x = x + d                     # depreciacion\n",
    "x                            # ingreso antes de impuestos"
   ]
  },
  {
   "cell_type": "code",
   "execution_count": 123,
   "metadata": {
    "collapsed": false
   },
   "outputs": [
    {
     "data": {
      "text/plain": [
       "Time Series:\n",
       "Start = (0,)\n",
       "End = (4,)\n",
       "pyr = 1\n",
       "Data = (0,)          337.50 \n",
       "       (1,)-(4,) [4] 391.50 "
      ]
     },
     "execution_count": 123,
     "metadata": {},
     "output_type": "execute_result"
    }
   ],
   "source": [
    "x = x + cf.after_tax_cashflow(x, tax_rate = cf.nominal_rate(const_value=[35] * 5)) # impuesto de renta del 35%\n",
    "x                                              # ingreso despues de impuestos"
   ]
  },
  {
   "cell_type": "code",
   "execution_count": 124,
   "metadata": {
    "collapsed": false
   },
   "outputs": [
    {
     "data": {
      "text/plain": [
       "Time Series:\n",
       "Start = (0,)\n",
       "End = (4,)\n",
       "pyr = 1\n",
       "Data = (0,)          337.50 \n",
       "       (1,)-(4,) [4] 351.50 "
      ]
     },
     "execution_count": 124,
     "metadata": {},
     "output_type": "execute_result"
    }
   ],
   "source": [
    "x - d  # flujo de caja"
   ]
  },
  {
   "cell_type": "markdown",
   "metadata": {},
   "source": [
    "Note que en el resultado anterior el ingreso después de impuestos es mayor que en el caso 1."
   ]
  },
  {
   "cell_type": "markdown",
   "metadata": {},
   "source": [
    "**Caso 2: depreciación acelerada.**"
   ]
  },
  {
   "cell_type": "code",
   "execution_count": 130,
   "metadata": {
    "collapsed": false
   },
   "outputs": [
    {
     "data": {
      "text/plain": [
       "Time Series:\n",
       "Start = (0,)\n",
       "End = (4,)\n",
       "pyr = 1\n",
       "Data = (0,)    0.00 \n",
       "       (1,)   66.67 \n",
       "       (2,)   53.33 \n",
       "       (3,)   40.00 \n",
       "       (4,)   26.67 "
      ]
     },
     "execution_count": 130,
     "metadata": {},
     "output_type": "execute_result"
    }
   ],
   "source": [
    "## activo depreciable\n",
    "costs=cf.cashflow(const_value=0, nper=5, spec=(0, 200))\n",
    "life=cf.cashflow(const_value=0, nper=5, spec=(0, 5))\n",
    "d =cf.depreciation_soyd(costs=costs, life=life)\n",
    "d"
   ]
  },
  {
   "cell_type": "code",
   "execution_count": 131,
   "metadata": {
    "collapsed": false
   },
   "outputs": [
    {
     "data": {
      "text/plain": [
       "Time Series:\n",
       "Start = (0,)\n",
       "End = (4,)\n",
       "pyr = 1\n",
       "Data = (0,)-(4,) [5] 250.00 "
      ]
     },
     "execution_count": 131,
     "metadata": {},
     "output_type": "execute_result"
    }
   ],
   "source": [
    "# crea el flujo de caja\n",
    "i = cf.cashflow(const_value=[500]*5)          # ingresos brutos: $ 500 por periodo\n",
    "g = cf.cashflow(const_value=[250]*5)                         # gastos operativos: $ 250 por periodo\n",
    "x = i-g                                      # ingreso antes de impuestos\n",
    "x"
   ]
  },
  {
   "cell_type": "code",
   "execution_count": 132,
   "metadata": {
    "collapsed": false
   },
   "outputs": [
    {
     "data": {
      "text/plain": [
       "Time Series:\n",
       "Start = (0,)\n",
       "End = (4,)\n",
       "pyr = 1\n",
       "Data = (0,)   250.00 \n",
       "       (1,)   316.67 \n",
       "       (2,)   303.33 \n",
       "       (3,)   290.00 \n",
       "       (4,)   276.67 "
      ]
     },
     "execution_count": 132,
     "metadata": {},
     "output_type": "execute_result"
    }
   ],
   "source": [
    "x = x + d                     # depreciacion\n",
    "x                             # ingreso antes de impuestos"
   ]
  },
  {
   "cell_type": "code",
   "execution_count": 133,
   "metadata": {
    "collapsed": false
   },
   "outputs": [
    {
     "data": {
      "text/plain": [
       "Time Series:\n",
       "Start = (0,)\n",
       "End = (4,)\n",
       "pyr = 1\n",
       "Data = (0,)   337.50 \n",
       "       (1,)   427.50 \n",
       "       (2,)   409.50 \n",
       "       (3,)   391.50 \n",
       "       (4,)   373.50 "
      ]
     },
     "execution_count": 133,
     "metadata": {},
     "output_type": "execute_result"
    }
   ],
   "source": [
    "x = x + cf.after_tax_cashflow(x, tax_rate = cf.nominal_rate(const_value=[35] * 5)) # impuesto de renta del 35%\n",
    "x                                              # ingreso despues de impuestos"
   ]
  },
  {
   "cell_type": "code",
   "execution_count": 134,
   "metadata": {
    "collapsed": false
   },
   "outputs": [
    {
     "data": {
      "text/plain": [
       "Time Series:\n",
       "Start = (0,)\n",
       "End = (4,)\n",
       "pyr = 1\n",
       "Data = (0,)   337.50 \n",
       "       (1,)   360.83 \n",
       "       (2,)   356.17 \n",
       "       (3,)   351.50 \n",
       "       (4,)   346.83 "
      ]
     },
     "execution_count": 134,
     "metadata": {},
     "output_type": "execute_result"
    }
   ],
   "source": [
    "x - d  # flujo de caja"
   ]
  },
  {
   "cell_type": "markdown",
   "metadata": {},
   "source": [
    "# Cuentas de Ahorros"
   ]
  },
  {
   "cell_type": "markdown",
   "metadata": {},
   "source": [
    "[Contenido](#Contenido)"
   ]
  },
  {
   "cell_type": "markdown",
   "metadata": {},
   "source": [
    "**Ejercicio.--** Construya el balance para 12 meses, si habre una cuenta de ahorro que paga el 2% mensual, y hace 12 depósitos de \\$ 100 (puede usar Microsoft Excel)."
   ]
  },
  {
   "cell_type": "code",
   "execution_count": null,
   "metadata": {
    "collapsed": true
   },
   "outputs": [],
   "source": []
  },
  {
   "cell_type": "markdown",
   "metadata": {},
   "source": [
    "**Ejercicio.--** Para el ejercicio anterior, cuánto es la suma de los intereses aritmética de los intereses recibidos?"
   ]
  },
  {
   "cell_type": "code",
   "execution_count": null,
   "metadata": {
    "collapsed": true
   },
   "outputs": [],
   "source": []
  },
  {
   "cell_type": "markdown",
   "metadata": {},
   "source": [
    "**Ejercicio.--** Construya el balance para 12 meses, si usted tiene una cuenta de ahorro que paga el 2% mensual con un capital inicial de \\$ 1000, y hace retiros mensuales de \\$ 100 iniciando hoy (puede usar Microsoft Excel)."
   ]
  },
  {
   "cell_type": "code",
   "execution_count": null,
   "metadata": {
    "collapsed": true
   },
   "outputs": [],
   "source": []
  },
  {
   "cell_type": "markdown",
   "metadata": {},
   "source": [
    "**Ejercicio.--** Para el ejercicio anterior, cuánto es la suma de los intereses aritmética de los intereses recibidos?"
   ]
  },
  {
   "cell_type": "code",
   "execution_count": null,
   "metadata": {
    "collapsed": true
   },
   "outputs": [],
   "source": []
  },
  {
   "cell_type": "markdown",
   "metadata": {},
   "source": [
    "# Modelado de cuentas de ahorro usando cashflow"
   ]
  },
  {
   "cell_type": "markdown",
   "metadata": {},
   "source": [
    "[Contenido](#Contenido)"
   ]
  },
  {
   "cell_type": "markdown",
   "metadata": {},
   "source": [
    "**`cashflows`** permite el modelado de cuentas de ahorro (e intrumentos financieros similares)."
   ]
  },
  {
   "cell_type": "markdown",
   "metadata": {},
   "source": [
    "**Ejemplo.--** Construya el balance para 12 meses, si habre una cuenta de ahorro que paga el 2% mensual, y hace 13 depósitos de \\$ 100 (con el primer depósito se abre la cuenta)."
   ]
  },
  {
   "cell_type": "code",
   "execution_count": 153,
   "metadata": {
    "collapsed": false,
    "scrolled": true
   },
   "outputs": [
    {
     "name": "stdout",
     "output_type": "stream",
     "text": [
      "t     Beginning   Deposit    Earned    Ending\n",
      "        Balance            Interest   Balance\n",
      "----------------------------------------------\n",
      "(0,)       0.00    100.00      0.00    100.00\n",
      "(1,)     100.00    100.00      2.00    202.00\n",
      "(2,)     202.00    100.00      4.04    306.04\n",
      "(3,)     306.04    100.00      6.12    412.16\n",
      "(4,)     412.16    100.00      8.24    520.40\n",
      "(5,)     520.40    100.00     10.41    630.81\n",
      "(6,)     630.81    100.00     12.62    743.43\n",
      "(7,)     743.43    100.00     14.87    858.30\n",
      "(8,)     858.30    100.00     17.17    975.46\n",
      "(9,)     975.46    100.00     19.51   1094.97\n",
      "(10,)   1094.97    100.00     21.90   1216.87\n",
      "(11,)   1216.87    100.00     24.34   1341.21\n",
      "(12,)   1341.21    100.00     26.82   1468.03\n"
     ]
    }
   ],
   "source": [
    "cflo = cf.cashflow(const_value=[100] * 13)\n",
    "nrate = cf.nominal_rate([2] * 13)\n",
    "x = cf.savings(deposits = cflo,       # deposito periodico     \n",
    "               initbal  =    0,      # balance inicial\n",
    "               rate     =    nrate,   # tasa de interes mensual \n",
    "               noprint=False)      "
   ]
  },
  {
   "cell_type": "code",
   "execution_count": 154,
   "metadata": {
    "collapsed": false,
    "scrolled": true
   },
   "outputs": [
    {
     "data": {
      "text/plain": [
       "(Time Series:\n",
       " Start = (0,)\n",
       " End = (12,)\n",
       " pyr = 1\n",
       " Data = (0,)     0.00 \n",
       "        (1,)     2.00 \n",
       "        (2,)     4.04 \n",
       "        (3,)     6.12 \n",
       "        (4,)     8.24 \n",
       "        (5,)    10.41 \n",
       "        (6,)    12.62 \n",
       "        (7,)    14.87 \n",
       "        (8,)    17.17 \n",
       "        (9,)    19.51 \n",
       "        (10,)   21.90 \n",
       "        (11,)   24.34 \n",
       "        (12,)   26.82 , Time Series:\n",
       " Start = (0,)\n",
       " End = (12,)\n",
       " pyr = 1\n",
       " Data = (0,)     100.00 \n",
       "        (1,)     202.00 \n",
       "        (2,)     306.04 \n",
       "        (3,)     412.16 \n",
       "        (4,)     520.40 \n",
       "        (5,)     630.81 \n",
       "        (6,)     743.43 \n",
       "        (7,)     858.30 \n",
       "        (8,)     975.46 \n",
       "        (9,)    1094.97 \n",
       "        (10,)   1216.87 \n",
       "        (11,)   1341.21 \n",
       "        (12,)   1468.03 )"
      ]
     },
     "execution_count": 154,
     "metadata": {},
     "output_type": "execute_result"
    }
   ],
   "source": [
    "cflo = cf.cashflow(const_value=[100] * 13)\n",
    "nrate = cf.nominal_rate([2] * 13)\n",
    "x = cf.savings(deposits = cflo,       # deposito periodico     \n",
    "               initbal  =    0,      # balance inicial\n",
    "               rate     =    nrate)   # tasa de interes mensual \n",
    " \n",
    "## intereses como lista \n",
    "x"
   ]
  },
  {
   "cell_type": "markdown",
   "metadata": {},
   "source": [
    "**Ejemplo.--** Realice el mismo ejemplo anterior, pero considerando que la tasa de interes es del 4% a partir de $t$ = 5."
   ]
  },
  {
   "cell_type": "code",
   "execution_count": 155,
   "metadata": {
    "collapsed": false
   },
   "outputs": [
    {
     "name": "stdout",
     "output_type": "stream",
     "text": [
      "t     Beginning   Deposit    Earned    Ending\n",
      "        Balance            Interest   Balance\n",
      "----------------------------------------------\n",
      "(0,)       0.00    100.00      0.00    100.00\n",
      "(1,)     100.00    100.00      2.00    202.00\n",
      "(2,)     202.00    100.00      4.04    306.04\n",
      "(3,)     306.04    100.00      6.12    412.16\n",
      "(4,)     412.16    100.00      8.24    520.40\n",
      "(5,)     520.40    100.00     20.82    641.22\n",
      "(6,)     641.22    100.00     25.65    766.87\n",
      "(7,)     766.87    100.00     30.67    897.54\n",
      "(8,)     897.54    100.00     35.90   1033.45\n",
      "(9,)    1033.45    100.00     41.34   1174.78\n",
      "(10,)   1174.78    100.00     46.99   1321.77\n",
      "(11,)   1321.77    100.00     52.87   1474.65\n",
      "(12,)   1474.65    100.00     58.99   1633.63\n"
     ]
    }
   ],
   "source": [
    "nrate= cf.nominal_rate(const_value=[2] * 3,spec=(5,4))\n",
    "cflo = cf.cashflow(const_value=[100] * 12)\n",
    "x = cf.savings(deposits = cflo,       # deposito periodico     \n",
    "               initbal  =    0,      # balance inicial\n",
    "               rate     =    nrate, # tasa de interes mensual\n",
    "               noprint = False)    \n"
   ]
  },
  {
   "cell_type": "markdown",
   "metadata": {},
   "source": [
    "**Ejemplo.--** Se tiene una cuenta con un saldo inicial de \\$ 100. Se hacen depósitos  al final de cada trimestre por \\$ 50 (se hará el primer depósito en 3 meses). La tasa de interés es del 2% mensual y cambiará a 1% a partir del 13avo mes (incluido). Cuál será el saldo al final de mes 24?. "
   ]
  },
  {
   "cell_type": "code",
   "execution_count": 152,
   "metadata": {
    "collapsed": false
   },
   "outputs": [
    {
     "name": "stdout",
     "output_type": "stream",
     "text": [
      "t     Beginning   Deposit    Earned    Ending\n",
      "        Balance            Interest   Balance\n",
      "----------------------------------------------\n",
      "(0,)     100.00      0.00      2.00    102.00\n",
      "(1,)     102.00      0.00      2.04    104.04\n",
      "(2,)     104.04      0.00      2.08    106.12\n",
      "(3,)     106.12     50.00      2.12    158.24\n",
      "(4,)     158.24      0.00      3.16    161.41\n",
      "(5,)     161.41      0.00      3.23    164.64\n",
      "(6,)     164.64     50.00      3.29    217.93\n",
      "(7,)     217.93      0.00      4.36    222.29\n",
      "(8,)     222.29      0.00      4.45    226.73\n",
      "(9,)     226.73     50.00      4.53    281.27\n",
      "(10,)    281.27      0.00      5.63    286.89\n",
      "(11,)    286.89      0.00      5.74    292.63\n",
      "(12,)    292.63     50.00      5.85    348.48\n",
      "(13,)    348.48      0.00      3.48    351.97\n",
      "(14,)    351.97      0.00      3.52    355.49\n",
      "(15,)    355.49     50.00      3.55    409.04\n",
      "(16,)    409.04      0.00      4.09    413.13\n",
      "(17,)    413.13      0.00      4.13    417.26\n",
      "(18,)    417.26     50.00      4.17    471.44\n",
      "(19,)    471.44      0.00      4.71    476.15\n",
      "(20,)    476.15      0.00      4.76    480.91\n",
      "(21,)    480.91     50.00      4.81    535.72\n",
      "(22,)    535.72      0.00      5.36    541.08\n",
      "(23,)    541.08      0.00      5.41    546.49\n",
      "(24,)    546.49     50.00      5.46    601.96\n"
     ]
    }
   ],
   "source": [
    "nrate= cf.nominal_rate(const_value=[2] * 25,spec=(13,1))\n",
    "cflo = cf.cashflow(const_value=0, nper=25, spec=[(t*3,50) for t in range(1,9)] )\n",
    "\n",
    "x = cf.savings(deposits = cflo,       # deposito periodico     \n",
    "               initbal  = 100,      # balance inicial\n",
    "               rate     = nrate, # tasa de interes mensual\n",
    "               noprint = False) \n",
    "\n"
   ]
  },
  {
   "cell_type": "markdown",
   "metadata": {},
   "source": [
    "# Préstamos"
   ]
  },
  {
   "cell_type": "markdown",
   "metadata": {},
   "source": [
    "## Bullet Loan"
   ]
  },
  {
   "cell_type": "markdown",
   "metadata": {},
   "source": [
    "Este es un tipo de préstamo en que se pagan únicamente intereses durante la vida del crédito; con la última cuota se paga el capital."
   ]
  },
  {
   "cell_type": "markdown",
   "metadata": {},
   "source": [
    "En el siguiente ejemplo se usa **`cashflow`** para modelar un préstamo de \\$ 1000 a una tasa de interés del 10% y una duración de 10 periodos de tiempo."
   ]
  },
  {
   "cell_type": "code",
   "execution_count": 159,
   "metadata": {
    "collapsed": false,
    "scrolled": true
   },
   "outputs": [
    {
     "data": {
      "text/plain": [
       "t        Beg.    Per.   Total    Int.    Ppal  Ending\n",
       "         Ppal    Rate     Pmt     Pmt     Pmt    Ppal\n",
       "-----------------------------------------------------\n",
       "(0,)     0.00   10.00    0.00    0.00    0.00 1000.00\n",
       "(1,)  1000.00   10.00  100.00  100.00    0.00 1000.00\n",
       "(2,)  1000.00   10.00  100.00  100.00    0.00 1000.00\n",
       "(3,)  1000.00   10.00  100.00  100.00    0.00 1000.00\n",
       "(4,)  1000.00   10.00  100.00  100.00    0.00 1000.00\n",
       "(5,)  1000.00   10.00  100.00  100.00    0.00 1000.00\n",
       "(6,)  1000.00   10.00  100.00  100.00    0.00 1000.00\n",
       "(7,)  1000.00   10.00  100.00  100.00    0.00 1000.00\n",
       "(8,)  1000.00   10.00  100.00  100.00    0.00 1000.00\n",
       "(9,)  1000.00   10.00  100.00  100.00    0.00 1000.00\n",
       "(10,) 1000.00   10.00 1100.00  100.00 1000.00    0.00"
      ]
     },
     "execution_count": 159,
     "metadata": {},
     "output_type": "execute_result"
    }
   ],
   "source": [
    "nrate = cf.nominal_rate(const_value=10, nper=11)\n",
    "x=cf.bullet_loan(amount=1000, nrate=nrate, dispoints=0, orgpoints=0, prepmt=None)  # doctest: +NORMALIZE_WHITESPACE\n",
    "x\n"
   ]
  },
  {
   "cell_type": "code",
   "execution_count": 160,
   "metadata": {
    "collapsed": false
   },
   "outputs": [
    {
     "data": {
      "text/plain": [
       "Time Series:\n",
       "Start = (0,)\n",
       "End = (10,)\n",
       "pyr = 1\n",
       "Data = (0,)              0.00 \n",
       "       (1,)-(10,) [10] 100.00 "
      ]
     },
     "execution_count": 160,
     "metadata": {},
     "output_type": "execute_result"
    }
   ],
   "source": [
    "##\n",
    "## todos los tipos de créditos tiene funciones \n",
    "## para obtener las columnas de la tabla de \n",
    "## amortizacion como un flujo de efectivo\n",
    "##\n",
    "x.intpmt"
   ]
  },
  {
   "cell_type": "code",
   "execution_count": 161,
   "metadata": {
    "collapsed": false
   },
   "outputs": [
    {
     "data": {
      "text/plain": [
       "1000.0"
      ]
     },
     "execution_count": 161,
     "metadata": {},
     "output_type": "execute_result"
    }
   ],
   "source": [
    "sum(x.intpmt)"
   ]
  },
  {
   "cell_type": "code",
   "execution_count": 163,
   "metadata": {
    "collapsed": false
   },
   "outputs": [
    {
     "data": {
      "text/plain": [
       "Time Series:\n",
       "Start = (0,)\n",
       "End = (10,)\n",
       "pyr = 1\n",
       "Data = (0,)-(9,) [10]    0.00 \n",
       "       (9,)           1000.00 "
      ]
     },
     "execution_count": 163,
     "metadata": {},
     "output_type": "execute_result"
    }
   ],
   "source": [
    "x.ppalpmt  ## pagos a capital"
   ]
  },
  {
   "cell_type": "code",
   "execution_count": 164,
   "metadata": {
    "collapsed": false
   },
   "outputs": [
    {
     "data": {
      "text/plain": [
       "Time Series:\n",
       "Start = (0,)\n",
       "End = (10,)\n",
       "pyr = 1\n",
       "Data = (0,)               0.00 \n",
       "       (1,)-(10,) [10] 1000.00 "
      ]
     },
     "execution_count": 164,
     "metadata": {},
     "output_type": "execute_result"
    }
   ],
   "source": [
    "x.begppalbal ## balance inicial del periodo"
   ]
  },
  {
   "cell_type": "code",
   "execution_count": 165,
   "metadata": {
    "collapsed": false
   },
   "outputs": [
    {
     "data": {
      "text/plain": [
       "Time Series:\n",
       "Start = (0,)\n",
       "End = (10,)\n",
       "pyr = 1\n",
       "Data = (0,)-(9,) [10] 1000.00 \n",
       "       (9,)              0.00 "
      ]
     },
     "execution_count": 165,
     "metadata": {},
     "output_type": "execute_result"
    }
   ],
   "source": [
    "x.endppalbal ## balance final del periodo"
   ]
  },
  {
   "cell_type": "code",
   "execution_count": 168,
   "metadata": {
    "collapsed": false
   },
   "outputs": [
    {
     "data": {
      "text/plain": [
       "t        Beg.    Per.   Total    Int.    Ppal  Ending\n",
       "         Ppal    Rate     Pmt     Pmt     Pmt    Ppal\n",
       "-----------------------------------------------------\n",
       "(0,)     0.00   10.00    0.00    0.00    0.00 1000.00\n",
       "(1,)  1000.00   10.00  100.00  100.00    0.00 1000.00\n",
       "(2,)  1000.00   10.00  100.00  100.00    0.00 1000.00\n",
       "(3,)  1000.00   10.00  100.00  100.00    0.00 1000.00\n",
       "(4,)  1000.00   10.00  100.00  100.00    0.00 1000.00\n",
       "(5,)  1000.00   10.00  600.00  100.00  500.00  500.00\n",
       "(6,)   500.00   10.00   50.00   50.00    0.00  500.00\n",
       "(7,)   500.00   10.00   50.00   50.00    0.00  500.00\n",
       "(8,)   500.00   10.00   50.00   50.00    0.00  500.00\n",
       "(9,)   500.00   10.00   50.00   50.00    0.00  500.00\n",
       "(10,)  500.00   10.00  550.00   50.00  500.00    0.00"
      ]
     },
     "execution_count": 168,
     "metadata": {},
     "output_type": "execute_result"
    }
   ],
   "source": [
    "##\n",
    "## se admiten el prepago de la deuda sin penalizacion\n",
    "## a continuación se modela un prepago de deuda de $ 500 en t = 5\n",
    "##\n",
    "nrate = cf.nominal_rate(const_value=10, nper=11)\n",
    "x=cf.bullet_loan(amount=1000,\n",
    "                 nrate=nrate, \n",
    "                 dispoints=0, \n",
    "                 orgpoints=0, \n",
    "                 prepmt=cf.cashflow(const_value=0, nper=11,spec=(5,500))) \n",
    "x\n"
   ]
  },
  {
   "cell_type": "code",
   "execution_count": 170,
   "metadata": {
    "collapsed": false
   },
   "outputs": [
    {
     "data": {
      "text/plain": [
       "t        Beg.    Per.   Total    Int.    Ppal  Ending\n",
       "         Ppal    Rate     Pmt     Pmt     Pmt    Ppal\n",
       "-----------------------------------------------------\n",
       "(0,)     0.00   10.00    0.00    0.00    0.00 1000.00\n",
       "(1,)  1000.00   10.00  100.00  100.00    0.00 1000.00\n",
       "(2,)  1000.00   10.00  100.00  100.00    0.00 1000.00\n",
       "(3,)  1000.00   10.00  100.00  100.00    0.00 1000.00\n",
       "(4,)  1000.00   10.00  100.00  100.00    0.00 1000.00\n",
       "(5,)  1000.00   10.00 1100.00  100.00 1000.00    0.00\n",
       "(6,)     0.00   10.00    0.00    0.00    0.00    0.00\n",
       "(7,)     0.00   10.00    0.00    0.00    0.00    0.00\n",
       "(8,)     0.00   10.00    0.00    0.00    0.00    0.00\n",
       "(9,)     0.00   10.00    0.00    0.00    0.00    0.00\n",
       "(10,)    0.00   10.00    0.00    0.00    0.00    0.00"
      ]
     },
     "execution_count": 170,
     "metadata": {},
     "output_type": "execute_result"
    }
   ],
   "source": [
    "##\n",
    "## Si el prepago de deuda es superior al monto, \n",
    "## se ajusta al saldo\n",
    "##\n",
    "nrate = cf.nominal_rate(const_value=10, nper=11)\n",
    "x=cf.bullet_loan(amount=1000,\n",
    "                 nrate=nrate, \n",
    "                 dispoints=0, \n",
    "                 orgpoints=0, \n",
    "                 prepmt=cf.cashflow(const_value=0, nper=11,spec=(5,5000))) \n",
    "x"
   ]
  },
  {
   "cell_type": "code",
   "execution_count": 174,
   "metadata": {
    "collapsed": false,
    "scrolled": true
   },
   "outputs": [
    {
     "data": {
      "text/plain": [
       "t        Beg.    Per.   Total    Int.    Ppal  Ending\n",
       "         Ppal    Rate     Pmt     Pmt     Pmt    Ppal\n",
       "-----------------------------------------------------\n",
       "(0,)     0.00   10.00    0.00    0.00    0.00 1000.00\n",
       "(1,)  1000.00   10.00  100.00  100.00    0.00 1000.00\n",
       "(2,)  1000.00   10.00  100.00  100.00    0.00 1000.00\n",
       "(3,)  1000.00   10.00  100.00  100.00    0.00 1000.00\n",
       "(4,)  1000.00   10.00  100.00  100.00    0.00 1000.00\n",
       "(5,)  1000.00   10.00  100.00  100.00    0.00 1000.00\n",
       "(6,)  1000.00    8.00   80.00   80.00    0.00 1000.00\n",
       "(7,)  1000.00    8.00   80.00   80.00    0.00 1000.00\n",
       "(8,)  1000.00    8.00   80.00   80.00    0.00 1000.00\n",
       "(9,)  1000.00    8.00   80.00   80.00    0.00 1000.00\n",
       "(10,) 1000.00    8.00 1080.00   80.00 1000.00    0.00"
      ]
     },
     "execution_count": 174,
     "metadata": {},
     "output_type": "execute_result"
    }
   ],
   "source": [
    "##\n",
    "## este tipo de crédito admite una tasa de interés variable\n",
    "##\n",
    "nrate = cf.nominal_rate(const_value=10, nper=11, spec=(6,8)) # cambia en el periodo 6\n",
    "x=cf.bullet_loan(amount=1000,\n",
    "                 nrate=nrate, \n",
    "                 dispoints=0, \n",
    "                 orgpoints=0, \n",
    "                 prepmt=None) \n",
    "x"
   ]
  },
  {
   "cell_type": "markdown",
   "metadata": {},
   "source": [
    "## Fixed loan"
   ]
  },
  {
   "cell_type": "code",
   "execution_count": 175,
   "metadata": {
    "collapsed": false
   },
   "outputs": [
    {
     "data": {
      "text/plain": [
       "t        Beg.    Per.   Total    Int.    Ppal  Ending\n",
       "         Ppal    Rate     Pmt     Pmt     Pmt    Ppal\n",
       "-----------------------------------------------------\n",
       "(0,)     0.00   10.00    0.00    0.00    0.00 1000.00\n",
       "(1,)  1000.00   10.00  200.00  100.00  100.00  900.00\n",
       "(2,)   900.00   10.00  190.00   90.00  100.00  800.00\n",
       "(3,)   800.00   10.00  180.00   80.00  100.00  700.00\n",
       "(4,)   700.00   10.00  170.00   70.00  100.00  600.00\n",
       "(5,)   600.00   10.00  160.00   60.00  100.00  500.00\n",
       "(6,)   500.00   10.00  150.00   50.00  100.00  400.00\n",
       "(7,)   400.00   10.00  140.00   40.00  100.00  300.00\n",
       "(8,)   300.00   10.00  130.00   30.00  100.00  200.00\n",
       "(9,)   200.00   10.00  120.00   20.00  100.00  100.00\n",
       "(10,)  100.00   10.00  110.00   10.00  100.00    0.00"
      ]
     },
     "execution_count": 175,
     "metadata": {},
     "output_type": "execute_result"
    }
   ],
   "source": [
    "##\n",
    "## Este tipo es similar a las anteriores, pero siempre \n",
    "## se abona la misma cantidad a capital. El pago periodico\n",
    "## es igual al abono a capital más el interés sobre saldos.\n",
    "##\n",
    "nrate = cf.nominal_rate(const_value=10, nper=11)\n",
    "cf.fixed_ppal_loan(amount=1000, \n",
    "                   nrate=nrate, \n",
    "                   grace=0, \n",
    "                   dispoints=0, \n",
    "                   orgpoints=0,\n",
    "                   prepmt=None, \n",
    "                   balloonpmt=None)\n"
   ]
  },
  {
   "cell_type": "code",
   "execution_count": 176,
   "metadata": {
    "collapsed": false
   },
   "outputs": [
    {
     "data": {
      "text/plain": [
       "t        Beg.    Per.   Total    Int.    Ppal  Ending\n",
       "         Ppal    Rate     Pmt     Pmt     Pmt    Ppal\n",
       "-----------------------------------------------------\n",
       "(0,)     0.00   10.00    0.00    0.00    0.00 1000.00\n",
       "(1,)  1000.00   10.00  100.00  100.00    0.00 1000.00\n",
       "(2,)  1000.00   10.00  100.00  100.00    0.00 1000.00\n",
       "(3,)  1000.00   10.00  100.00  100.00    0.00 1000.00\n",
       "(4,)  1000.00   10.00  242.86  100.00  142.86  857.14\n",
       "(5,)   857.14   10.00  228.57   85.71  142.86  714.29\n",
       "(6,)   714.29   10.00  214.29   71.43  142.86  571.43\n",
       "(7,)   571.43   10.00  200.00   57.14  142.86  428.57\n",
       "(8,)   428.57   10.00  185.71   42.86  142.86  285.71\n",
       "(9,)   285.71   10.00  171.43   28.57  142.86  142.86\n",
       "(10,)  142.86   10.00  157.14   14.29  142.86    0.00"
      ]
     },
     "execution_count": 176,
     "metadata": {},
     "output_type": "execute_result"
    }
   ],
   "source": [
    "##\n",
    "## periodo de gracia de 3\n",
    "##\n",
    "nrate = cf.nominal_rate(const_value=10, nper=11)\n",
    "cf.fixed_ppal_loan(amount=1000, \n",
    "                   nrate=nrate, \n",
    "                   grace=3, \n",
    "                   dispoints=0, \n",
    "                   orgpoints=0,\n",
    "                   prepmt=None, \n",
    "                   balloonpmt=None)\n"
   ]
  },
  {
   "cell_type": "code",
   "execution_count": 177,
   "metadata": {
    "collapsed": false
   },
   "outputs": [
    {
     "data": {
      "text/plain": [
       "t        Beg.    Per.   Total    Int.    Ppal  Ending\n",
       "         Ppal    Rate     Pmt     Pmt     Pmt    Ppal\n",
       "-----------------------------------------------------\n",
       "(0,)     0.00   10.00    0.00    0.00    0.00 1000.00\n",
       "(1,)  1000.00   10.00  200.00  100.00  100.00  900.00\n",
       "(2,)   900.00   10.00  190.00   90.00  100.00  800.00\n",
       "(3,)   800.00   10.00  180.00   80.00  100.00  700.00\n",
       "(4,)   700.00   10.00  170.00   70.00  100.00  600.00\n",
       "(5,)   600.00   10.00  160.00   60.00  100.00  500.00\n",
       "(6,)   500.00    8.00  140.00   40.00  100.00  400.00\n",
       "(7,)   400.00    8.00  132.00   32.00  100.00  300.00\n",
       "(8,)   300.00    8.00  124.00   24.00  100.00  200.00\n",
       "(9,)   200.00    8.00  116.00   16.00  100.00  100.00\n",
       "(10,)  100.00    8.00  108.00    8.00  100.00    0.00"
      ]
     },
     "execution_count": 177,
     "metadata": {},
     "output_type": "execute_result"
    }
   ],
   "source": [
    "##\n",
    "## este tipo de crédito admite una tasa de interés variable\n",
    "##\n",
    "nrate = cf.nominal_rate(const_value=10, nper=11, spec=(6,8)) # cambia en el periodo 6\n",
    "cf.fixed_ppal_loan(amount=1000, \n",
    "                   nrate=nrate, \n",
    "                   grace=0, \n",
    "                   dispoints=0, \n",
    "                   orgpoints=0,\n",
    "                   prepmt=None, \n",
    "                   balloonpmt=None)\n",
    "\n"
   ]
  },
  {
   "cell_type": "code",
   "execution_count": 180,
   "metadata": {
    "collapsed": false,
    "scrolled": true
   },
   "outputs": [
    {
     "data": {
      "text/plain": [
       "t        Beg.    Per.   Total    Int.    Ppal  Ending\n",
       "         Ppal    Rate     Pmt     Pmt     Pmt    Ppal\n",
       "-----------------------------------------------------\n",
       "(0,)     0.00   10.00    0.00    0.00    0.00 1000.00\n",
       "(1,)  1000.00   10.00  150.00  100.00   50.00  950.00\n",
       "(2,)   950.00   10.00  145.00   95.00   50.00  900.00\n",
       "(3,)   900.00   10.00  140.00   90.00   50.00  850.00\n",
       "(4,)   850.00   10.00  135.00   85.00   50.00  800.00\n",
       "(5,)   800.00   10.00  630.00   80.00  550.00  250.00\n",
       "(6,)   250.00   10.00   75.00   25.00   50.00  200.00\n",
       "(7,)   200.00   10.00   70.00   20.00   50.00  150.00\n",
       "(8,)   150.00   10.00   65.00   15.00   50.00  100.00\n",
       "(9,)   100.00   10.00   60.00   10.00   50.00   50.00\n",
       "(10,)   50.00   10.00   55.00    5.00   50.00    0.00"
      ]
     },
     "execution_count": 180,
     "metadata": {},
     "output_type": "execute_result"
    }
   ],
   "source": [
    "##\n",
    "## este tipo de crédito admite pagos adicionales programados\n",
    "## como abono a la deuda\n",
    "##\n",
    "nrate = cf.nominal_rate(const_value=10, nper=11)\n",
    "cf.fixed_ppal_loan(amount=1000, \n",
    "                   nrate=nrate, \n",
    "                   grace=0, \n",
    "                   dispoints=0, \n",
    "                   orgpoints=0,\n",
    "                   prepmt=None, \n",
    "                   balloonpmt=cf.cashflow(const_value=0, nper = 11, spec=(5, 500)))\n",
    "\n",
    "\n"
   ]
  },
  {
   "cell_type": "code",
   "execution_count": 181,
   "metadata": {
    "collapsed": false
   },
   "outputs": [
    {
     "data": {
      "text/plain": [
       "t        Beg.    Per.   Total    Int.    Ppal  Ending\n",
       "         Ppal    Rate     Pmt     Pmt     Pmt    Ppal\n",
       "-----------------------------------------------------\n",
       "(0,)     0.00   10.00    0.00    0.00    0.00 1000.00\n",
       "(1,)  1000.00   10.00  150.00  100.00   50.00  950.00\n",
       "(2,)   950.00   10.00  145.00   95.00   50.00  900.00\n",
       "(3,)   900.00   10.00  140.00   90.00   50.00  850.00\n",
       "(4,)   850.00   10.00  135.00   85.00   50.00  800.00\n",
       "(5,)   800.00   10.00  630.00   80.00  550.00  250.00\n",
       "(6,)   250.00    8.00   70.00   20.00   50.00  200.00\n",
       "(7,)   200.00    8.00   66.00   16.00   50.00  150.00\n",
       "(8,)   150.00    8.00   62.00   12.00   50.00  100.00\n",
       "(9,)   100.00    8.00   58.00    8.00   50.00   50.00\n",
       "(10,)   50.00    8.00   54.00    4.00   50.00    0.00"
      ]
     },
     "execution_count": 181,
     "metadata": {},
     "output_type": "execute_result"
    }
   ],
   "source": [
    "##\n",
    "## este tipo de crédito admite una tasa de interés variable\n",
    "##\n",
    "nrate = cf.nominal_rate(const_value=10, nper=11,spec=(6,8)) # cambia en el periodo 6\n",
    "cf.fixed_ppal_loan(amount=1000, \n",
    "                   nrate=nrate, \n",
    "                   grace=0, \n",
    "                   dispoints=0, \n",
    "                   orgpoints=0,\n",
    "                   prepmt=None, \n",
    "                   balloonpmt=cf.cashflow(const_value=0, nper = 11, spec=(5, 500)))"
   ]
  },
  {
   "cell_type": "code",
   "execution_count": 183,
   "metadata": {
    "collapsed": false
   },
   "outputs": [
    {
     "data": {
      "text/plain": [
       "t        Beg.    Per.   Total    Int.    Ppal  Ending\n",
       "         Ppal    Rate     Pmt     Pmt     Pmt    Ppal\n",
       "-----------------------------------------------------\n",
       "(0,)     0.00   10.00    0.00    0.00    0.00 1000.00\n",
       "(1,)  1000.00   10.00  100.00  100.00    0.00 1000.00\n",
       "(2,)  1000.00   10.00  100.00  100.00    0.00 1000.00\n",
       "(3,)  1000.00   10.00  100.00  100.00    0.00 1000.00\n",
       "(4,)  1000.00   10.00  100.00  100.00    0.00 1000.00\n",
       "(5,)  1000.00   10.00  600.00  100.00  500.00  500.00\n",
       "(6,)   500.00    8.00  140.00   40.00  100.00  400.00\n",
       "(7,)   400.00    8.00  132.00   32.00  100.00  300.00\n",
       "(8,)   300.00    8.00  124.00   24.00  100.00  200.00\n",
       "(9,)   200.00    8.00  116.00   16.00  100.00  100.00\n",
       "(10,)  100.00    8.00  108.00    8.00  100.00    0.00"
      ]
     },
     "execution_count": 183,
     "metadata": {},
     "output_type": "execute_result"
    }
   ],
   "source": [
    "##\n",
    "## ejemplo anterior con periodo de gracia\n",
    "##\n",
    "nrate = cf.nominal_rate(const_value=10, nper=11,spec=(6,8)) # cambia en el periodo 6\n",
    "cf.fixed_ppal_loan(amount=1000, \n",
    "                   nrate=nrate, \n",
    "                   grace=5, \n",
    "                   dispoints=0, \n",
    "                   orgpoints=0,\n",
    "                   prepmt=None, \n",
    "                   balloonpmt=cf.cashflow(const_value=0, nper = 11, spec=(5, 500)))"
   ]
  },
  {
   "cell_type": "markdown",
   "metadata": {
    "collapsed": true
   },
   "source": [
    "## Ballon loan"
   ]
  },
  {
   "cell_type": "markdown",
   "metadata": {
    "collapsed": true
   },
   "source": [
    "En este tipo de créditos el pago se realiza en cuotas fijas. La tasa de interés es fija (no cambia en el tiempo). En el siguiente ejemplo se modela un préstamo de \\$ 1000 a un plazo de 10 años y una tasa del 10%.  "
   ]
  },
  {
   "cell_type": "code",
   "execution_count": 211,
   "metadata": {
    "collapsed": false,
    "scrolled": true
   },
   "outputs": [
    {
     "data": {
      "text/plain": [
       "t        Beg.    Per.   Total    Int.    Ppal  Ending\n",
       "         Ppal    Rate     Pmt     Pmt     Pmt    Ppal\n",
       "-----------------------------------------------------\n",
       "(0,)  1000.00   10.00    0.00    0.00    0.00 1000.00\n",
       "(1,)  1000.00   10.00  162.75  100.00   62.75  937.25\n",
       "(2,)   937.25   10.00  162.75   93.73   69.02  868.23\n",
       "(3,)   868.23   10.00  162.75   86.82   75.92  792.31\n",
       "(4,)   792.31   10.00  162.75   79.23   83.51  708.80\n",
       "(5,)   708.80   10.00  162.75   70.88   91.87  616.93\n",
       "(6,)   616.93   10.00  162.75   61.69  101.05  515.88\n",
       "(7,)   515.88   10.00  162.75   51.59  111.16  404.72\n",
       "(8,)   404.72   10.00  162.75   40.47  122.27  282.45\n",
       "(9,)   282.45   10.00  162.75   28.25  134.50  147.95\n",
       "(10,)  147.95   10.00  162.75   14.80  147.95    0.00"
      ]
     },
     "execution_count": 211,
     "metadata": {},
     "output_type": "execute_result"
    }
   ],
   "source": [
    "cf.fixed_rate_loan(amount=1000, # monto\n",
    "                nrate=10,    # tasa de interés por periodo\n",
    "                life=10,     # número de cuotas\n",
    "                start=None,\n",
    "                grace=0,\n",
    "                dispoints=0,\n",
    "                orgpoints=0,\n",
    "                prepmt=None,\n",
    "                balloonpmt=None)\n"
   ]
  },
  {
   "cell_type": "code",
   "execution_count": 238,
   "metadata": {
    "collapsed": false
   },
   "outputs": [
    {
     "data": {
      "text/plain": [
       "t        Beg.    Per.   Total    Int.    Ppal  Ending\n",
       "         Ppal    Rate     Pmt     Pmt     Pmt    Ppal\n",
       "-----------------------------------------------------\n",
       "(0,)  1000.00   10.00    0.00    0.00    0.00 1000.00\n",
       "(1,)  1000.00   10.00  129.99  100.00   29.99  970.01\n",
       "(2,)   970.01   10.00  129.99   97.00   32.98  937.03\n",
       "(3,)   937.03   10.00  129.99   93.70   36.28  900.75\n",
       "(4,)   900.75   10.00  129.99   90.07   39.91  860.84\n",
       "(5,)   860.84   10.00  329.99   86.08  243.90  616.93\n",
       "(6,)   616.93   10.00  129.99   61.69   68.29  548.64\n",
       "(7,)   548.64   10.00  129.99   54.86   75.12  473.52\n",
       "(8,)   473.52   10.00  129.99   47.35   82.63  390.88\n",
       "(9,)   390.88   10.00  129.99   39.09   90.90  299.99\n",
       "(10,)  299.99   10.00  329.99   30.00  299.99    0.00"
      ]
     },
     "execution_count": 238,
     "metadata": {},
     "output_type": "execute_result"
    }
   ],
   "source": [
    "\n",
    "##\n",
    "## en éste tipo de crédito es posible considerar pagos adicionales\n",
    "## a los pagos periodicos con el fin de disminuir el monto periodico\n",
    "## en el siguiente ejemplo se supone pagos de \\$ 200\n",
    "## en los periodos 5 y 10\n",
    "##\n",
    "cf.fixed_rate_loan(amount=1000, # monto\n",
    "                nrate=10,    # tasa de interés por periodo\n",
    "                life=10,     # número de cuotas\n",
    "                start=None,\n",
    "                grace=0,\n",
    "                dispoints=0,\n",
    "                orgpoints=0,\n",
    "                prepmt=None,\n",
    "                balloonpmt=cf.cashflow(const_value=0,nper=11,spec=[(5,200),(10,200)]))\n"
   ]
  },
  {
   "cell_type": "code",
   "execution_count": 239,
   "metadata": {
    "collapsed": false,
    "scrolled": true
   },
   "outputs": [
    {
     "data": {
      "text/plain": [
       "t        Beg.    Per.   Total    Int.    Ppal  Ending\n",
       "         Ppal    Rate     Pmt     Pmt     Pmt    Ppal\n",
       "-----------------------------------------------------\n",
       "(0,)  1000.00   10.00    0.00    0.00    0.00 1000.00\n",
       "(1,)  1000.00   10.00  129.99  100.00   29.99  970.01\n",
       "(2,)   970.01   10.00  129.99   97.00   32.98  937.03\n",
       "(3,)   937.03   10.00  229.99   93.70  136.28  800.75\n",
       "(4,)   800.75   10.00  129.99   80.07   49.91  750.84\n",
       "(5,)   750.84   10.00  329.99   75.08  254.90  495.93\n",
       "(6,)   495.93   10.00  129.99   49.59   80.39  415.54\n",
       "(7,)   415.54   10.00  229.99   41.55  188.43  227.11\n",
       "(8,)   227.11   10.00  129.99   22.71  107.28  119.83\n",
       "(9,)   119.83   10.00  129.99   11.98  118.00    1.83\n",
       "(10,)    1.83   10.00    2.01    0.18    1.83    0.00"
      ]
     },
     "execution_count": 239,
     "metadata": {},
     "output_type": "execute_result"
    }
   ],
   "source": [
    "##\n",
    "## este tipo de créditos tambien admiten el prepago de deuda\n",
    "## a continuación se modela el caso anterior con un prepago\n",
    "## de $ 100 en los periodos 3 y 7\n",
    "##\n",
    "pmt = cf.cashflow(const_value=0, nper = 11, spec=[(3, 100),(7, 100)])\n",
    "cf.fixed_rate_loan(amount=1000, # monto\n",
    "                nrate=10,    # tasa de interés por periodo\n",
    "                life=10,     # número de cuotas\n",
    "                start=None,\n",
    "                grace=0,\n",
    "                dispoints=0,\n",
    "                orgpoints=0,\n",
    "                prepmt=pmt,\n",
    "                balloonpmt=cf.cashflow(const_value=0,nper=11,spec=[(5,200),(10,200)]))\n",
    "\n",
    "\n"
   ]
  },
  {
   "cell_type": "code",
   "execution_count": 240,
   "metadata": {
    "collapsed": false,
    "scrolled": true
   },
   "outputs": [
    {
     "data": {
      "text/plain": [
       "t        Beg.    Per.   Total    Int.    Ppal  Ending\n",
       "         Ppal    Rate     Pmt     Pmt     Pmt    Ppal\n",
       "-----------------------------------------------------\n",
       "(0,)  1000.00   10.00    0.00    0.00    0.00 1000.00\n",
       "(1,)  1000.00   10.00  100.00  100.00    0.00 1000.00\n",
       "(2,)  1000.00   10.00  100.00  100.00    0.00 1000.00\n",
       "(3,)  1000.00   10.00  100.00  100.00    0.00 1000.00\n",
       "(4,)  1000.00   10.00  100.00  100.00    0.00 1000.00\n",
       "(5,)  1000.00   10.00  100.00  100.00    0.00 1000.00\n",
       "(6,)  1000.00   10.00  100.00  100.00    0.00 1000.00\n",
       "(7,)  1000.00   10.00  100.00  100.00    0.00 1000.00\n",
       "(8,)  1000.00   10.00  100.00  100.00    0.00 1000.00\n",
       "(9,)  1000.00   10.00  100.00  100.00    0.00 1000.00\n",
       "(10,) 1000.00   10.00 1100.00  100.00 1000.00    0.00"
      ]
     },
     "execution_count": 240,
     "metadata": {},
     "output_type": "execute_result"
    }
   ],
   "source": [
    "##\n",
    "## un crédito bullet puede modelarse como balloon \n",
    "## usando un prepago igual al monto de la deuda \n",
    "## \n",
    "\n",
    "\n",
    "cf.fixed_rate_loan(amount=1000, # monto\n",
    "                nrate=10,    # tasa de interés por periodo\n",
    "                life=10,     # número de cuotas\n",
    "                start=None,\n",
    "                grace=0,\n",
    "                dispoints=0,\n",
    "                orgpoints=0,\n",
    "                prepmt=None,\n",
    "                balloonpmt=cf.cashflow(const_value=0,nper=11,spec=(10,1000)))\n"
   ]
  },
  {
   "cell_type": "markdown",
   "metadata": {},
   "source": [
    "## Buydown loans"
   ]
  },
  {
   "cell_type": "markdown",
   "metadata": {},
   "source": [
    "Este tipo de préstamo es similar a los préstamos de cuota fija (balloon loans) pero con tasa cambiante en el tiempo. No admiten cuotas adicionales para reducir el pago fijo periodico. Cuando hay un cambio en la tasa de interés, el pago periodico total se recalcula para reflejar el cambio de tasa de interés.  "
   ]
  },
  {
   "cell_type": "code",
   "execution_count": 243,
   "metadata": {
    "collapsed": false
   },
   "outputs": [
    {
     "data": {
      "text/plain": [
       "t        Beg.    Per.   Total    Int.    Ppal  Ending\n",
       "         Ppal    Rate     Pmt     Pmt     Pmt    Ppal\n",
       "-----------------------------------------------------\n",
       "(0,)  1000.00   10.00    0.00    0.00    0.00 1000.00\n",
       "(1,)  1000.00   10.00  162.75  100.00   62.75  937.25\n",
       "(2,)   937.25   10.00  162.75   93.73   69.02  868.23\n",
       "(3,)   868.23   10.00  162.75   86.82   75.92  792.31\n",
       "(4,)   792.31   10.00  162.75   79.23   83.51  708.80\n",
       "(5,)   708.80   10.00  162.75   70.88   91.87  616.93\n",
       "(6,)   616.93   10.00  162.75   61.69  101.05  515.88\n",
       "(7,)   515.88   10.00  162.75   51.59  111.16  404.72\n",
       "(8,)   404.72   10.00  162.75   40.47  122.27  282.45\n",
       "(9,)   282.45   10.00  162.75   28.25  134.50  147.95\n",
       "(10,)  147.95   10.00  162.75   14.80  147.95    0.00"
      ]
     },
     "execution_count": 243,
     "metadata": {},
     "output_type": "execute_result"
    }
   ],
   "source": [
    "##\n",
    "## los resultados son iguales a un crédito balloon\n",
    "##\n",
    "nrate = cf.nominal_rate(const_value=10, nper=11)\n",
    "cf.buydown_loan(amount=1000, \n",
    "                nrate=nrate, \n",
    "                dispoints=0, \n",
    "                orgpoints=0, \n",
    "                prepmt=None)\n"
   ]
  },
  {
   "cell_type": "code",
   "execution_count": 244,
   "metadata": {
    "collapsed": false
   },
   "outputs": [
    {
     "data": {
      "text/plain": [
       "t        Beg.    Per.   Total    Int.    Ppal  Ending\n",
       "         Ppal    Rate     Pmt     Pmt     Pmt    Ppal\n",
       "-----------------------------------------------------\n",
       "(0,)  1000.00   10.00    0.00    0.00    0.00 1000.00\n",
       "(1,)  1000.00   10.00  162.75  100.00   62.75  937.25\n",
       "(2,)   937.25   10.00  162.75   93.73   69.02  868.23\n",
       "(3,)   868.23   10.00  162.75   86.82   75.92  792.31\n",
       "(4,)   792.31   10.00  162.75   79.23   83.51  708.80\n",
       "(5,)   708.80    5.00  139.65   35.44  104.21  604.59\n",
       "(6,)   604.59    5.00  139.65   30.23  109.42  495.18\n",
       "(7,)   495.18    5.00  139.65   24.76  114.89  380.29\n",
       "(8,)   380.29    5.00  139.65   19.01  120.63  259.66\n",
       "(9,)   259.66    5.00  139.65   12.98  126.66  133.00\n",
       "(10,)  133.00    5.00  139.65    6.65  133.00    0.00"
      ]
     },
     "execution_count": 244,
     "metadata": {},
     "output_type": "execute_result"
    }
   ],
   "source": [
    "##\n",
    "## cambios en la tasa de interés\n",
    "##\n",
    "nrate = cf.nominal_rate(const_value=10, nper=11,spec=(5,5))\n",
    "cf.buydown_loan(amount=1000, \n",
    "                nrate=nrate, \n",
    "                dispoints=0, \n",
    "                orgpoints=0, \n",
    "                prepmt=None)\n",
    "\n"
   ]
  },
  {
   "cell_type": "code",
   "execution_count": 245,
   "metadata": {
    "collapsed": false
   },
   "outputs": [
    {
     "data": {
      "text/plain": [
       "t        Beg.    Per.   Total    Int.    Ppal  Ending\n",
       "         Ppal    Rate     Pmt     Pmt     Pmt    Ppal\n",
       "-----------------------------------------------------\n",
       "(0,)  1000.00   10.00    0.00    0.00    0.00 1000.00\n",
       "(1,)  1000.00   10.00  162.75  100.00   62.75  937.25\n",
       "(2,)   937.25   10.00  162.75   93.73   69.02  868.23\n",
       "(3,)   868.23   10.00  262.75   86.82  175.92  692.31\n",
       "(4,)   692.31   10.00  142.20   69.23   72.97  619.34\n",
       "(5,)   619.34   10.00  142.20   61.93   80.27  539.07\n",
       "(6,)   539.07   10.00  242.20   53.91  188.30  350.77\n",
       "(7,)   350.77   10.00  110.66   35.08   75.58  275.19\n",
       "(8,)   275.19   10.00  110.66   27.52   83.14  192.05\n",
       "(9,)   192.05   10.00  110.66   19.21   91.45  100.60\n",
       "(10,)  100.60   10.00  110.66   10.06  100.60    0.00"
      ]
     },
     "execution_count": 245,
     "metadata": {},
     "output_type": "execute_result"
    }
   ],
   "source": [
    "##\n",
    "## se introducen 2 prepagos por $ 100 cada uno\n",
    "## en t = 3, 6\n",
    "##\n",
    "nrate = cf.nominal_rate(const_value=10, nper=11)\n",
    "cf.buydown_loan(amount=1000, \n",
    "                nrate=nrate, \n",
    "                dispoints=0, \n",
    "                orgpoints=0, \n",
    "                prepmt=cf.cashflow(const_value=0,nper=11,spec=[(3,100),(6,100)]))\n"
   ]
  },
  {
   "cell_type": "markdown",
   "metadata": {},
   "source": [
    "---"
   ]
  },
  {
   "cell_type": "markdown",
   "metadata": {},
   "source": [
    "**Ejercicio.--** Verifique manualmente todos los cálculos realizados para los diferentes tipos de créditos."
   ]
  },
  {
   "cell_type": "code",
   "execution_count": null,
   "metadata": {
    "collapsed": true
   },
   "outputs": [],
   "source": []
  },
  {
   "cell_type": "markdown",
   "metadata": {},
   "source": [
    "---"
   ]
  },
  {
   "cell_type": "markdown",
   "metadata": {},
   "source": [
    "[Contenido](#Contenido)"
   ]
  }
 ],
 "metadata": {
  "anaconda-cloud": {},
  "kernelspec": {
   "display_name": "Python [default]",
   "language": "python",
   "name": "python3"
  },
  "language_info": {
   "codemirror_mode": {
    "name": "ipython",
    "version": 3
   },
   "file_extension": ".py",
   "mimetype": "text/x-python",
   "name": "python",
   "nbconvert_exporter": "python",
   "pygments_lexer": "ipython3",
   "version": "3.5.2"
  }
 },
 "nbformat": 4,
 "nbformat_minor": 0
}
